{
 "cells": [
  {
   "cell_type": "code",
   "execution_count": 21,
   "metadata": {},
   "outputs": [],
   "source": [
    "import json\n",
    "from openai import OpenAI\n",
    "import time\n",
    "import os\n",
    "import requests\n",
    "\n",
    "\n",
    "client = OpenAI(\n",
    "    api_key=os.getenv(\"OPEN_AI_KEY\")\n",
    ")"
   ]
  },
  {
   "cell_type": "code",
   "execution_count": 22,
   "metadata": {},
   "outputs": [],
   "source": [
    "assistant_id=\"asst_KTFlL51Og2srFF5bqmaaKM9k\"\n"
   ]
  },
  {
   "cell_type": "code",
   "execution_count": 23,
   "metadata": {},
   "outputs": [
    {
     "data": {
      "text/plain": [
       "'i have reached the kitchen.\\n'"
      ]
     },
     "execution_count": 23,
     "metadata": {},
     "output_type": "execute_result"
    }
   ],
   "source": [
    "\n",
    "def go_to_location(location):\n",
    "\n",
    "    time.sleep(1)\n",
    "    return f\"\"\"i have reached the {location}.\\n\"\"\"\n",
    "\n",
    "go_to_location(\"kitchen\")\n"
   ]
  },
  {
   "cell_type": "code",
   "execution_count": 24,
   "metadata": {},
   "outputs": [
    {
     "data": {
      "text/plain": [
       "Assistant(id='asst_KTFlL51Og2srFF5bqmaaKM9k', created_at=1701638723, description=None, file_ids=[], instructions='you are a   service robot in the real world. you can have small talk with the user you can go to different rooms in the home based on the user input.', metadata={}, model='gpt-3.5-turbo', name='robot assistant', object='assistant', tools=[ToolFunction(function=FunctionDefinition(name='go_to_location', parameters={'type': 'object', 'properties': {'location': {'type': 'string', 'description': 'name of the room like kitchen,bedroom,bathroom'}}, 'required': ['location']}, description='go to location as requested by user'), type='function')])"
      ]
     },
     "execution_count": 24,
     "metadata": {},
     "output_type": "execute_result"
    }
   ],
   "source": [
    "assistant=client.beta.assistants.retrieve(\n",
    "    assistant_id=assistant_id\n",
    ")\n",
    "\n",
    "assistant\n"
   ]
  },
  {
   "cell_type": "code",
   "execution_count": 25,
   "metadata": {},
   "outputs": [
    {
     "data": {
      "text/plain": [
       "Thread(id='thread_csaKPMBeHt3W0y7ZcXsj3WfO', created_at=1701713822, metadata={}, object='thread')"
      ]
     },
     "execution_count": 25,
     "metadata": {},
     "output_type": "execute_result"
    }
   ],
   "source": [
    "thread=client.beta.threads.create()\n",
    "thread"
   ]
  },
  {
   "cell_type": "code",
   "execution_count": 26,
   "metadata": {},
   "outputs": [
    {
     "data": {
      "text/plain": [
       "Run(id='run_zy6rIa8YpRqji1a33ktqpO99', assistant_id='asst_KTFlL51Og2srFF5bqmaaKM9k', cancelled_at=None, completed_at=None, created_at=1701713825, expires_at=1701714425, failed_at=None, file_ids=[], instructions='go to the kitchen', last_error=None, metadata={}, model='gpt-3.5-turbo', object='thread.run', required_action=None, started_at=None, status='queued', thread_id='thread_csaKPMBeHt3W0y7ZcXsj3WfO', tools=[ToolAssistantToolsFunction(function=FunctionDefinition(name='go_to_location', parameters={'type': 'object', 'properties': {'location': {'type': 'string', 'description': 'name of the room like kitchen,bedroom,bathroom'}}, 'required': ['location']}, description='go to location as requested by user'), type='function')])"
      ]
     },
     "execution_count": 26,
     "metadata": {},
     "output_type": "execute_result"
    }
   ],
   "source": [
    "run=client.beta.threads.runs.create(\n",
    "    thread_id=thread.id,\n",
    "    assistant_id=assistant.id,\n",
    "    instructions=\"go to the kitchen\"\n",
    ")\n",
    "\n",
    "run"
   ]
  },
  {
   "cell_type": "code",
   "execution_count": 27,
   "metadata": {},
   "outputs": [
    {
     "data": {
      "text/plain": [
       "Run(id='run_zy6rIa8YpRqji1a33ktqpO99', assistant_id='asst_KTFlL51Og2srFF5bqmaaKM9k', cancelled_at=None, completed_at=None, created_at=1701713825, expires_at=1701714425, failed_at=None, file_ids=[], instructions='go to the kitchen', last_error=None, metadata={}, model='gpt-3.5-turbo', object='thread.run', required_action=RequiredAction(submit_tool_outputs=RequiredActionSubmitToolOutputs(tool_calls=[RequiredActionFunctionToolCall(id='call_aE8yEw51axIJnyho9oZ0g22Y', function=Function(arguments='{\\n  \"location\": \"kitchen\"\\n}', name='go_to_location'), type='function')]), type='submit_tool_outputs'), started_at=1701713825, status='requires_action', thread_id='thread_csaKPMBeHt3W0y7ZcXsj3WfO', tools=[ToolAssistantToolsFunction(function=FunctionDefinition(name='go_to_location', parameters={'type': 'object', 'properties': {'location': {'type': 'string', 'description': 'name of the room like kitchen,bedroom,bathroom'}}, 'required': ['location']}, description='go to location as requested by user'), type='function')])"
      ]
     },
     "execution_count": 27,
     "metadata": {},
     "output_type": "execute_result"
    }
   ],
   "source": [
    "run=client.beta.threads.runs.retrieve(\n",
    "    thread_id=thread.id,\n",
    "    run_id=run.id\n",
    ")\n",
    "\n",
    "run"
   ]
  },
  {
   "cell_type": "code",
   "execution_count": 28,
   "metadata": {},
   "outputs": [
    {
     "data": {
      "text/plain": [
       "[{'tool_call_id': 'call_aE8yEw51axIJnyho9oZ0g22Y',\n",
       "  'output': 'i have reached the kitchen.\\n'}]"
      ]
     },
     "execution_count": 28,
     "metadata": {},
     "output_type": "execute_result"
    }
   ],
   "source": [
    "def get_outputs_for_tool_call(tool_call):\n",
    "    location=json.loads(tool_call.function.arguments)[\"location\"]\n",
    "    location_details=go_to_location(location=location)\n",
    "    return{\n",
    "        \"tool_call_id\":tool_call.id,\n",
    "        \"output\":location_details\n",
    "    }\n",
    "\n",
    "tools_calls=run.required_action.submit_tool_outputs.tool_calls\n",
    "tool_outputs=map(get_outputs_for_tool_call,tools_calls)\n",
    "tool_outputs=list(tool_outputs)\n",
    "tool_outputs\n"
   ]
  },
  {
   "cell_type": "code",
   "execution_count": 29,
   "metadata": {},
   "outputs": [
    {
     "data": {
      "text/plain": [
       "Run(id='run_zy6rIa8YpRqji1a33ktqpO99', assistant_id='asst_KTFlL51Og2srFF5bqmaaKM9k', cancelled_at=None, completed_at=None, created_at=1701713825, expires_at=1701714425, failed_at=None, file_ids=[], instructions='go to the kitchen', last_error=None, metadata={}, model='gpt-3.5-turbo', object='thread.run', required_action=None, started_at=1701713825, status='queued', thread_id='thread_csaKPMBeHt3W0y7ZcXsj3WfO', tools=[ToolAssistantToolsFunction(function=FunctionDefinition(name='go_to_location', parameters={'type': 'object', 'properties': {'location': {'type': 'string', 'description': 'name of the room like kitchen,bedroom,bathroom'}}, 'required': ['location']}, description='go to location as requested by user'), type='function')])"
      ]
     },
     "execution_count": 29,
     "metadata": {},
     "output_type": "execute_result"
    }
   ],
   "source": [
    "run=client.beta.threads.runs.submit_tool_outputs(\n",
    "    thread_id=thread.id,\n",
    "    run_id=run.id,\n",
    "    tool_outputs=tool_outputs)\n",
    "\n",
    "run"
   ]
  },
  {
   "cell_type": "code",
   "execution_count": 30,
   "metadata": {},
   "outputs": [
    {
     "data": {
      "text/plain": [
       "Run(id='run_zy6rIa8YpRqji1a33ktqpO99', assistant_id='asst_KTFlL51Og2srFF5bqmaaKM9k', cancelled_at=None, completed_at=1701713876, created_at=1701713825, expires_at=None, failed_at=None, file_ids=[], instructions='go to the kitchen', last_error=None, metadata={}, model='gpt-3.5-turbo', object='thread.run', required_action=None, started_at=1701713874, status='completed', thread_id='thread_csaKPMBeHt3W0y7ZcXsj3WfO', tools=[ToolAssistantToolsFunction(function=FunctionDefinition(name='go_to_location', parameters={'type': 'object', 'properties': {'location': {'type': 'string', 'description': 'name of the room like kitchen,bedroom,bathroom'}}, 'required': ['location']}, description='go to location as requested by user'), type='function')])"
      ]
     },
     "execution_count": 30,
     "metadata": {},
     "output_type": "execute_result"
    }
   ],
   "source": [
    "run=client.beta.threads.runs.retrieve(\n",
    "    thread_id=thread.id,\n",
    "    run_id=run.id\n",
    ")\n",
    "run"
   ]
  }
 ],
 "metadata": {
  "kernelspec": {
   "display_name": "Python 3",
   "language": "python",
   "name": "python3"
  },
  "language_info": {
   "codemirror_mode": {
    "name": "ipython",
    "version": 3
   },
   "file_extension": ".py",
   "mimetype": "text/x-python",
   "name": "python",
   "nbconvert_exporter": "python",
   "pygments_lexer": "ipython3",
   "version": "3.10.12"
  }
 },
 "nbformat": 4,
 "nbformat_minor": 2
}
